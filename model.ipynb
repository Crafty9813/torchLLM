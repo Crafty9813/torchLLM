{
 "cells": [
  {
   "cell_type": "code",
   "execution_count": 1,
   "metadata": {},
   "outputs": [],
   "source": [
    "import torch\n",
    "import torch.nn as nn\n",
    "import torch.nn.functional as F"
   ]
  },
  {
   "cell_type": "code",
   "execution_count": null,
   "metadata": {},
   "outputs": [],
   "source": [
    "# Stole from https://medium.com/@msouza.os/llm-from-scratch-with-pytorch-9f21808c6319\n",
    "\n",
    "class Tokenizer:\n",
    "\n",
    "    @staticmethod\n",
    "    def create_vocab(dataset):\n",
    "\n",
    "        vocab = {\n",
    "            token: index\n",
    "            for index, token in enumerate(sorted(list(set(dataset))))\n",
    "        }\n",
    "\n",
    "        # Adding unknown token\n",
    "        vocab[\"<unk>\"] = len(vocab)\n",
    "\n",
    "        return vocab\n",
    "\n",
    "    def __init__(self, vocab):\n",
    "        self.vocab_encode = {str(k): int(v) for k, v in vocab.items()}\n",
    "        self.vocab_decode = {v: k for k, v in self.vocab_encode.items()}\n",
    "\n",
    "    def encode(self, text):\n",
    "        return [self.vocab_encode.get(char, self.vocab_encode[\"<unk>\"]) for char in text]\n",
    "\n",
    "    def decode(self, indices):\n",
    "        return \"\".join([self.vocab_decode.get(idx, \"<unk>\") for idx in indices])"
   ]
  }
 ],
 "metadata": {
  "kernelspec": {
   "display_name": "Python 3",
   "language": "python",
   "name": "python3"
  },
  "language_info": {
   "codemirror_mode": {
    "name": "ipython",
    "version": 3
   },
   "file_extension": ".py",
   "mimetype": "text/x-python",
   "name": "python",
   "nbconvert_exporter": "python",
   "pygments_lexer": "ipython3",
   "version": "3.11.1"
  }
 },
 "nbformat": 4,
 "nbformat_minor": 2
}
